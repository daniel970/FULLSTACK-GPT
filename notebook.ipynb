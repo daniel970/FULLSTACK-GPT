{
 "cells": [
  {
   "cell_type": "code",
   "execution_count": 4,
   "metadata": {},
   "outputs": [
    {
     "data": {
      "text/plain": [
       "'There are eight planets in our solar system: Mercury, Venus, Earth, Mars, Jupiter, Saturn, Uranus, and Neptune.'"
      ]
     },
     "execution_count": 4,
     "metadata": {},
     "output_type": "execute_result"
    }
   ],
   "source": [
    "# LangChain에서 제공하는 ChatOpenAI 모듈을 import\n",
    "from langchain.chat_models import ChatOpenAI\n",
    "\n",
    "# ChatOpenAI 클래스의 인스턴스를 생성하여 'chat' 객체에 저장\n",
    "chat = ChatOpenAI()\n",
    "\n",
    "# 'predict' 메서드를 사용하여 질문을 던지고, AI의 응답을 받아 'answer' 변수에 저장\n",
    "answer = chat.predict(\"How many planets are there?\")\n",
    "\n",
    "answer"
   ]
  }
 ],
 "metadata": {
  "kernelspec": {
   "display_name": "env",
   "language": "python",
   "name": "python3"
  },
  "language_info": {
   "codemirror_mode": {
    "name": "ipython",
    "version": 3
   },
   "file_extension": ".py",
   "mimetype": "text/x-python",
   "name": "python",
   "nbconvert_exporter": "python",
   "pygments_lexer": "ipython3",
   "version": "3.11.3"
  }
 },
 "nbformat": 4,
 "nbformat_minor": 2
}
